{
 "cells": [
  {
   "cell_type": "markdown",
   "id": "269e8bec-35ca-488b-aaed-72d999329077",
   "metadata": {},
   "source": [
    "# Digital Human Pipelines with Pipecat and ACE Controller\n",
    "\n",
    "This course is built around NVIDIA’s open-source Pipecat framework, called nvidia-pipecat, and the ACE Controller microservice. This course provides an end-to-end guide to building intelligent, interactive digital humans pipelines.\n",
    "\n",
    "### Learning Objectives\n",
    "- Understand the core concepts behind the nvidia-pipecat framework and ACE Controller microservice.\n",
    "- Explore the applications it supports (voice assistants, avatars, and agents).\n",
    "\n",
    "---\n",
    "\n",
    "## 1: Introduction to Pipecat Framework\n",
    "### Overview\n",
    "[Pipecat](https://github.com/pipecat-ai/pipecat) is an open source Python framework for building real-time, multimodal AI applications. It streamlines the development of pipelines that orchestrate complex interactions across AI services, network transport, audio processing, and multimodal user interfaces.\n",
    "\n",
    "### Core Terminology\n",
    "| Term               | Definition                                                                 |\n",
    "|--------------------|---------------------------------------------------------------------------|\n",
    "| `Frame`            | Discrete unit of data (text/audio/image) or control signals.              |\n",
    "| `FrameProcessor`   | Operates on frames (e.g., STT, TTS, LLM, filters).                         |\n",
    "| `Pipeline`         | Sequence of linked FrameProcessors.                                       |\n",
    "| `Transport`        | Input/output interface for audio and text streams.                        |\n",
    "| `AI Services`      | External service processors (STT, TTS, LLM, etc.).                        |\n",
    "\n",
    "\n",
    "The [nvidia-pipecat](https://github.com/NVIDIA/ace-controller/tree/main) library builds on the Pipecat framework by adding a suite of NVIDIA-developed frame processors, multimodal data types, and services tailored for creating intelligent avatar-based interactions. This includes integration with powerful NVIDIA technologies such as Riva (for ASR and TTS), Audio2Face (for real-time facial animation), and Foundational RAG (for retrieval-augmented generation).\n",
    "\n",
    "In addition to connecting these services, nvidia-pipecat enhances the end-user experience through new processors that support speculative speech—enabling conversational agents to respond more quickly by processing stable interim speech results.\n",
    "\n",
    "While pipecat and nvidia-pipecat give you the building blocks for creating multimodal AI agents, ACE Controller is the orchestration layer that makes these pipelines production-ready.\n",
    "\n",
    "[ACE Controller](https://docs.nvidia.com/ace/ace-controller-microservice/1.0/index.html#ace-controller-microservice) wraps the Pipecat ecosystem in a scalable FastAPI microservice. It lets developers deploy voice-enabled digital humans (and other agents) that can handle multiple users, support RTSP audio/video input, and connect to NVIDIA ACE microservices such as:\n",
    "\t•\tRiva (Speech Recognition and Synthesis)\n",
    "\t•\tAudio2Face (Real-time facial animation)\n",
    "\t•\tAnimation Graph, Video Storage Toolkit (VST), and more\n",
    "    \n",
    "---\n",
    "todo\n",
    "### Example Pipeline Layout\n",
    "\n",
    "```python\n",
    "pipeline = Pipeline([\n",
    "    transport.input(),\n",
    "    stt,\n",
    "    llm,\n",
    "    tts,\n",
    "    transport.output()\n",
    "])"
   ]
  },
  {
   "cell_type": "code",
   "execution_count": null,
   "id": "7a884081-70a2-4079-84be-9ae531322556",
   "metadata": {},
   "outputs": [],
   "source": []
  }
 ],
 "metadata": {
  "kernelspec": {
   "display_name": "Python 3 (ipykernel)",
   "language": "python",
   "name": "python3"
  },
  "language_info": {
   "codemirror_mode": {
    "name": "ipython",
    "version": 3
   },
   "file_extension": ".py",
   "mimetype": "text/x-python",
   "name": "python",
   "nbconvert_exporter": "python",
   "pygments_lexer": "ipython3",
   "version": "3.12.10"
  }
 },
 "nbformat": 4,
 "nbformat_minor": 5
}
