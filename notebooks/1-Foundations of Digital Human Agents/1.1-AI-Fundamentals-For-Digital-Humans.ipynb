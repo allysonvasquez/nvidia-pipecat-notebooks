{
 "cells": [
  {
   "cell_type": "markdown",
   "id": "11050252-e275-4676-ba64-d7f46d58a9b6",
   "metadata": {},
   "source": [
    "# Welcome to the Digital Humans Course!\n",
    "\n",
    "Welcome! This module provides the foundational knowledge and tools needed to understand, design, and\n",
    "develop AI driven, end-to-end digital human pipelines. \n",
    "\n",
    "The series of notebooks in this module introduces system architecture, development\n",
    "environments, ethical considerations, and pipeline integration strategies.\n",
    "\n",
    "## Learning Objectives:\n",
    "- Define digital human agents and their applications\n",
    "- Identify key components of digital human systems\n",
    "\n",
    "\n",
    "\n",
    "**note for team: things below the lecture content should cover before this notebook\n",
    "- define digital human\n",
    "- why digital humans over chatbots\n",
    "- digital human use cases\n",
    "- short term problems? uncanny valley appearance, difficulties still with imperfect speech\n",
    "- long term problems: ethical things. who should they look and sound like? lots of things to consider. gender, race, clothes, makeup, age, acccent, hairstyle, appearance. theres probably more but thats off thetop of my head\n",
    "- challenges of digital humans: users will always have preferences and bias. but preferences dont affect the overall staisfaction when the diital human does its task well, and does it accurately, but in the nuance of a human conversation."
   ]
  },
  {
   "cell_type": "markdown",
   "id": "197dff59-dbb0-4916-9d42-2a42751e8c08",
   "metadata": {},
   "source": [
    "# 1.1 What Does it Take to Bring a Digital Human to Life?\n",
    "Blurb here to intro, below is end to end flow for typical avatar deveopment. placehodler image ill find somethign a bit more technical.\n",
    "![test](../../docs/images/e2e-avatar-flow-diagram.png)\n",
    "\n",
    "Technical components typically include needed to plan around\n",
    "- Automatic Speech Recognition\n",
    "- Text to Speech\n",
    "- Chat and Behavior Logic: LLM / RAG. ALso can mention agents and how thats affecting the space\n",
    "- Animation: How realistic you want your digital human to be"
   ]
  },
  {
   "cell_type": "code",
   "execution_count": 1,
   "id": "92588747-1391-431e-bcd6-6cb8b05d85ee",
   "metadata": {},
   "outputs": [
    {
     "name": "stdout",
     "output_type": "stream",
     "text": [
      "/Users/avasquez/Developer/nvidia-pipecat-notebooks/notebooks/1-Foundations of Digital Human Agents\n"
     ]
    }
   ],
   "source": [
    "!pwd"
   ]
  },
  {
   "cell_type": "code",
   "execution_count": null,
   "id": "762034ae-6801-4c55-92f2-835605ec9e76",
   "metadata": {},
   "outputs": [],
   "source": []
  }
 ],
 "metadata": {
  "kernelspec": {
   "display_name": "nv-pipecat-env",
   "language": "python",
   "name": "nv-pipecat-env"
  },
  "language_info": {
   "codemirror_mode": {
    "name": "ipython",
    "version": 3
   },
   "file_extension": ".py",
   "mimetype": "text/x-python",
   "name": "python",
   "nbconvert_exporter": "python",
   "pygments_lexer": "ipython3",
   "version": "3.12.10"
  }
 },
 "nbformat": 4,
 "nbformat_minor": 5
}
