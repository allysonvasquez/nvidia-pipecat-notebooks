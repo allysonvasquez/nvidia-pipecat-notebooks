{
 "cells": [
  {
   "cell_type": "markdown",
   "id": "7262d136-db87-460c-a4ec-79cefe2b0f56",
   "metadata": {},
   "source": [
    "todo - will incorporate the NVIDIA RAG 2.0 blueprint with all NIM deployment, or paste it in to align with the contents of this module.\n",
    "reference: https://github.com/NVIDIA-AI-Blueprints/rag/tree/v2.0.0\n"
   ]
  },
  {
   "cell_type": "code",
   "execution_count": null,
   "id": "ba1e8a49-aa10-47c5-9045-91dedaf5f44a",
   "metadata": {},
   "outputs": [],
   "source": []
  }
 ],
 "metadata": {
  "kernelspec": {
   "display_name": "nv-pipecat-env",
   "language": "python",
   "name": "nv-pipecat-env"
  },
  "language_info": {
   "codemirror_mode": {
    "name": "ipython",
    "version": 3
   },
   "file_extension": ".py",
   "mimetype": "text/x-python",
   "name": "python",
   "nbconvert_exporter": "python",
   "pygments_lexer": "ipython3",
   "version": "3.12.10"
  }
 },
 "nbformat": 4,
 "nbformat_minor": 5
}
