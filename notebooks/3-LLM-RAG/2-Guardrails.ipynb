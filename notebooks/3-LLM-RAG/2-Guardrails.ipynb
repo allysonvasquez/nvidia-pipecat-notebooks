{
 "cells": [
  {
   "cell_type": "markdown",
   "id": "bdd9d22f-e8c3-4bf6-a08d-68a706e65a71",
   "metadata": {},
   "source": [
    "# Intro to Guardrails\n",
    "Guardrails help enforce rules for LLM output using three major categories:\n",
    "- **Topical Guardrails** – Keep conversations focused by blocking or redirecting off-topic inputs.\n",
    "- **Safety Guardrails** – Prevent unsafe, harmful, or inappropriate responses.\n",
    "- **Security Guardrails** – Protect sensitive information and prevent risky outputs.\n",
    "\n",
    "NeMo Guardrails is a framework to easily add programmable guardrails between application logic and the LLM’s output. It supports full customization of rules and actions to take when interfacing with LLMs. For simplicity, this notebook will use pre-defined guardrail NIMs for basic topical and safety guardrails, but you can easily create and expand on these using the framework.\n",
    "\n",
    "In this notebook, you will:\n",
    "- Understand the purpose and core types of NeMo Guardrails.\n",
    "- Learn how to apply guardrails using NVIDIA NIM models.\n",
    "- Evaluate model behavior in a museum guide scenario.\n",
    "- Build and test your own guardrails using documentation examples."
   ]
  },
  {
   "cell_type": "markdown",
   "id": "0216592e-286c-4a48-98c8-e8e7c8d93b28",
   "metadata": {},
   "source": [
    "## Prerequisites\n",
    "Prior to getting started, you will need an NVIDIA API Key from the NVIDIA API Catalog to access the models used in this notebook.  \n",
    "\n",
    "Need an API Key? It's Free!\n",
    "  1. Navigate to **[NVIDIA API Catalog](https://build.nvidia.com/explore/discover)**.\n",
    "  2. Select any model, such as `llama-3.3-70b-instruct`.\n",
    "  3. On the right panel above the sample code snippet, click on \"Get API Key\". This will prompt you to log in if you have not already."
   ]
  },
  {
   "cell_type": "code",
   "execution_count": 1,
   "id": "9c15d1b5-847b-4547-9d8f-bebee31d455c",
   "metadata": {},
   "outputs": [],
   "source": [
    "import os\n",
    "import getpass\n",
    "from dotenv import load_dotenv\n",
    "\n",
    "# Load environment variables from .env file\n",
    "load_dotenv()\n",
    "api_key = os.getenv(\"NVIDIA_API_KEY\")\n",
    "\n",
    "if not os.environ.get(\"NVIDIA_API_KEY\", \"\").startswith(\"nvapi-\"):\n",
    "    nvapi_key = getpass.getpass(\"Enter your NVIDIA API key: \")\n",
    "    assert nvapi_key.startswith(\"nvapi-\"), f\"{nvapi_key[:5]}... is not a valid key\"\n",
    "    os.environ[\"NVIDIA_API_KEY\"] = nvapi_key"
   ]
  },
  {
   "cell_type": "code",
   "execution_count": 4,
   "id": "a53010d2-590c-4598-822a-2c65f97c8f6c",
   "metadata": {
    "scrolled": true
   },
   "outputs": [
    {
     "name": "stdout",
     "output_type": "stream",
     "text": [
      "Requirement already satisfied: nemoguardrails in /Users/avasquez/.pyenv/versions/3.11.8/lib/python3.11/site-packages (0.13.0)\n",
      "Requirement already satisfied: aiohttp>=3.10.11 in /Users/avasquez/.pyenv/versions/3.11.8/lib/python3.11/site-packages (from nemoguardrails) (3.11.18)\n",
      "Requirement already satisfied: annoy>=1.17.3 in /Users/avasquez/.pyenv/versions/3.11.8/lib/python3.11/site-packages (from nemoguardrails) (1.17.3)\n",
      "Requirement already satisfied: fastapi>=0.103.0 in /Users/avasquez/.pyenv/versions/3.11.8/lib/python3.11/site-packages (from nemoguardrails) (0.115.12)\n",
      "Requirement already satisfied: fastembed<0.4.1,>=0.2.2 in /Users/avasquez/.pyenv/versions/3.11.8/lib/python3.11/site-packages (from nemoguardrails) (0.4.0)\n",
      "Requirement already satisfied: httpx>=0.24.1 in /Users/avasquez/.pyenv/versions/3.11.8/lib/python3.11/site-packages (from nemoguardrails) (0.28.1)\n",
      "Requirement already satisfied: jinja2>=3.1.6 in /Users/avasquez/.pyenv/versions/3.11.8/lib/python3.11/site-packages (from nemoguardrails) (3.1.6)\n",
      "Requirement already satisfied: langchain<0.4.0,>=0.2.14 in /Users/avasquez/.pyenv/versions/3.11.8/lib/python3.11/site-packages (from nemoguardrails) (0.3.25)\n",
      "Requirement already satisfied: langchain-community<0.4.0,>=0.0.16 in /Users/avasquez/.pyenv/versions/3.11.8/lib/python3.11/site-packages (from nemoguardrails) (0.3.23)\n",
      "Requirement already satisfied: langchain-core<0.4.0,>=0.2.14 in /Users/avasquez/.pyenv/versions/3.11.8/lib/python3.11/site-packages (from nemoguardrails) (0.3.59)\n",
      "Requirement already satisfied: lark>=1.1.7 in /Users/avasquez/.pyenv/versions/3.11.8/lib/python3.11/site-packages (from nemoguardrails) (1.2.2)\n",
      "Requirement already satisfied: nest-asyncio>=1.5.6 in /Users/avasquez/.pyenv/versions/3.11.8/lib/python3.11/site-packages (from nemoguardrails) (1.6.0)\n",
      "Requirement already satisfied: onnxruntime<2.0.0,>=1.17.0 in /Users/avasquez/.pyenv/versions/3.11.8/lib/python3.11/site-packages (from nemoguardrails) (1.19.2)\n",
      "Requirement already satisfied: pandas<3,>=1.4.0 in /Users/avasquez/.pyenv/versions/3.11.8/lib/python3.11/site-packages (from nemoguardrails) (2.2.3)\n",
      "Requirement already satisfied: prompt-toolkit>=3.0 in /Users/avasquez/.pyenv/versions/3.11.8/lib/python3.11/site-packages (from nemoguardrails) (3.0.51)\n",
      "Requirement already satisfied: pydantic>=1.10 in /Users/avasquez/.pyenv/versions/3.11.8/lib/python3.11/site-packages (from nemoguardrails) (2.10.6)\n",
      "Requirement already satisfied: pyyaml>=6.0 in /Users/avasquez/.pyenv/versions/3.11.8/lib/python3.11/site-packages (from nemoguardrails) (6.0.2)\n",
      "Requirement already satisfied: rich>=13.5.2 in /Users/avasquez/.pyenv/versions/3.11.8/lib/python3.11/site-packages (from nemoguardrails) (14.0.0)\n",
      "Requirement already satisfied: simpleeval>=0.9.13 in /Users/avasquez/.pyenv/versions/3.11.8/lib/python3.11/site-packages (from nemoguardrails) (1.0.3)\n",
      "Requirement already satisfied: starlette>=0.27.0 in /Users/avasquez/.pyenv/versions/3.11.8/lib/python3.11/site-packages (from nemoguardrails) (0.46.2)\n",
      "Requirement already satisfied: typer>=0.8 in /Users/avasquez/.pyenv/versions/3.11.8/lib/python3.11/site-packages (from nemoguardrails) (0.15.3)\n",
      "Requirement already satisfied: uvicorn>=0.23 in /Users/avasquez/.pyenv/versions/3.11.8/lib/python3.11/site-packages (from nemoguardrails) (0.34.2)\n",
      "Requirement already satisfied: watchdog>=3.0.0 in /Users/avasquez/.pyenv/versions/3.11.8/lib/python3.11/site-packages (from nemoguardrails) (6.0.0)\n",
      "Requirement already satisfied: aiohappyeyeballs>=2.3.0 in /Users/avasquez/.pyenv/versions/3.11.8/lib/python3.11/site-packages (from aiohttp>=3.10.11->nemoguardrails) (2.6.1)\n",
      "Requirement already satisfied: aiosignal>=1.1.2 in /Users/avasquez/.pyenv/versions/3.11.8/lib/python3.11/site-packages (from aiohttp>=3.10.11->nemoguardrails) (1.3.2)\n",
      "Requirement already satisfied: attrs>=17.3.0 in /Users/avasquez/.pyenv/versions/3.11.8/lib/python3.11/site-packages (from aiohttp>=3.10.11->nemoguardrails) (25.3.0)\n",
      "Requirement already satisfied: frozenlist>=1.1.1 in /Users/avasquez/.pyenv/versions/3.11.8/lib/python3.11/site-packages (from aiohttp>=3.10.11->nemoguardrails) (1.6.0)\n",
      "Requirement already satisfied: multidict<7.0,>=4.5 in /Users/avasquez/.pyenv/versions/3.11.8/lib/python3.11/site-packages (from aiohttp>=3.10.11->nemoguardrails) (6.4.3)\n",
      "Requirement already satisfied: propcache>=0.2.0 in /Users/avasquez/.pyenv/versions/3.11.8/lib/python3.11/site-packages (from aiohttp>=3.10.11->nemoguardrails) (0.3.1)\n",
      "Requirement already satisfied: yarl<2.0,>=1.17.0 in /Users/avasquez/.pyenv/versions/3.11.8/lib/python3.11/site-packages (from aiohttp>=3.10.11->nemoguardrails) (1.20.0)\n",
      "Requirement already satisfied: typing-extensions>=4.8.0 in /Users/avasquez/.pyenv/versions/3.11.8/lib/python3.11/site-packages (from fastapi>=0.103.0->nemoguardrails) (4.13.2)\n",
      "Requirement already satisfied: PyStemmer<3.0.0,>=2.2.0 in /Users/avasquez/.pyenv/versions/3.11.8/lib/python3.11/site-packages (from fastembed<0.4.1,>=0.2.2->nemoguardrails) (2.2.0.3)\n",
      "Requirement already satisfied: huggingface-hub<1.0,>=0.20 in /Users/avasquez/.pyenv/versions/3.11.8/lib/python3.11/site-packages (from fastembed<0.4.1,>=0.2.2->nemoguardrails) (0.31.1)\n",
      "Requirement already satisfied: loguru<0.8.0,>=0.7.2 in /Users/avasquez/.pyenv/versions/3.11.8/lib/python3.11/site-packages (from fastembed<0.4.1,>=0.2.2->nemoguardrails) (0.7.3)\n",
      "Requirement already satisfied: mmh3<5.0.0,>=4.1.0 in /Users/avasquez/.pyenv/versions/3.11.8/lib/python3.11/site-packages (from fastembed<0.4.1,>=0.2.2->nemoguardrails) (4.1.0)\n",
      "Requirement already satisfied: numpy<2,>=1.21 in /Users/avasquez/.pyenv/versions/3.11.8/lib/python3.11/site-packages (from fastembed<0.4.1,>=0.2.2->nemoguardrails) (1.26.4)\n",
      "Requirement already satisfied: onnx<2.0.0,>=1.15.0 in /Users/avasquez/.pyenv/versions/3.11.8/lib/python3.11/site-packages (from fastembed<0.4.1,>=0.2.2->nemoguardrails) (1.17.0)\n",
      "Requirement already satisfied: pillow<11.0.0,>=10.3.0 in /Users/avasquez/.pyenv/versions/3.11.8/lib/python3.11/site-packages (from fastembed<0.4.1,>=0.2.2->nemoguardrails) (10.4.0)\n",
      "Requirement already satisfied: requests<3.0,>=2.31 in /Users/avasquez/.pyenv/versions/3.11.8/lib/python3.11/site-packages (from fastembed<0.4.1,>=0.2.2->nemoguardrails) (2.32.3)\n",
      "Requirement already satisfied: snowballstemmer<3.0.0,>=2.2.0 in /Users/avasquez/.pyenv/versions/3.11.8/lib/python3.11/site-packages (from fastembed<0.4.1,>=0.2.2->nemoguardrails) (2.2.0)\n",
      "Requirement already satisfied: tokenizers<1.0,>=0.15 in /Users/avasquez/.pyenv/versions/3.11.8/lib/python3.11/site-packages (from fastembed<0.4.1,>=0.2.2->nemoguardrails) (0.21.1)\n",
      "Requirement already satisfied: tqdm<5.0,>=4.66 in /Users/avasquez/.pyenv/versions/3.11.8/lib/python3.11/site-packages (from fastembed<0.4.1,>=0.2.2->nemoguardrails) (4.67.1)\n",
      "Requirement already satisfied: anyio in /Users/avasquez/.pyenv/versions/3.11.8/lib/python3.11/site-packages (from httpx>=0.24.1->nemoguardrails) (4.9.0)\n",
      "Requirement already satisfied: certifi in /Users/avasquez/.pyenv/versions/3.11.8/lib/python3.11/site-packages (from httpx>=0.24.1->nemoguardrails) (2025.1.31)\n",
      "Requirement already satisfied: httpcore==1.* in /Users/avasquez/.pyenv/versions/3.11.8/lib/python3.11/site-packages (from httpx>=0.24.1->nemoguardrails) (1.0.8)\n",
      "Requirement already satisfied: idna in /Users/avasquez/.pyenv/versions/3.11.8/lib/python3.11/site-packages (from httpx>=0.24.1->nemoguardrails) (3.10)\n",
      "Requirement already satisfied: h11<0.15,>=0.13 in /Users/avasquez/.pyenv/versions/3.11.8/lib/python3.11/site-packages (from httpcore==1.*->httpx>=0.24.1->nemoguardrails) (0.14.0)\n",
      "Requirement already satisfied: MarkupSafe>=2.0 in /Users/avasquez/.pyenv/versions/3.11.8/lib/python3.11/site-packages (from jinja2>=3.1.6->nemoguardrails) (3.0.2)\n",
      "Requirement already satisfied: langchain-text-splitters<1.0.0,>=0.3.8 in /Users/avasquez/.pyenv/versions/3.11.8/lib/python3.11/site-packages (from langchain<0.4.0,>=0.2.14->nemoguardrails) (0.3.8)\n",
      "Requirement already satisfied: langsmith<0.4,>=0.1.17 in /Users/avasquez/.pyenv/versions/3.11.8/lib/python3.11/site-packages (from langchain<0.4.0,>=0.2.14->nemoguardrails) (0.3.42)\n",
      "Requirement already satisfied: SQLAlchemy<3,>=1.4 in /Users/avasquez/.pyenv/versions/3.11.8/lib/python3.11/site-packages (from langchain<0.4.0,>=0.2.14->nemoguardrails) (2.0.40)\n",
      "Requirement already satisfied: tenacity!=8.4.0,<10,>=8.1.0 in /Users/avasquez/.pyenv/versions/3.11.8/lib/python3.11/site-packages (from langchain-community<0.4.0,>=0.0.16->nemoguardrails) (9.1.2)\n",
      "Requirement already satisfied: dataclasses-json<0.7,>=0.5.7 in /Users/avasquez/.pyenv/versions/3.11.8/lib/python3.11/site-packages (from langchain-community<0.4.0,>=0.0.16->nemoguardrails) (0.6.7)\n",
      "Requirement already satisfied: pydantic-settings<3.0.0,>=2.4.0 in /Users/avasquez/.pyenv/versions/3.11.8/lib/python3.11/site-packages (from langchain-community<0.4.0,>=0.0.16->nemoguardrails) (2.9.1)\n",
      "Requirement already satisfied: httpx-sse<1.0.0,>=0.4.0 in /Users/avasquez/.pyenv/versions/3.11.8/lib/python3.11/site-packages (from langchain-community<0.4.0,>=0.0.16->nemoguardrails) (0.4.0)\n",
      "Requirement already satisfied: jsonpatch<2.0,>=1.33 in /Users/avasquez/.pyenv/versions/3.11.8/lib/python3.11/site-packages (from langchain-core<0.4.0,>=0.2.14->nemoguardrails) (1.33)\n",
      "Requirement already satisfied: packaging<25,>=23.2 in /Users/avasquez/.pyenv/versions/3.11.8/lib/python3.11/site-packages (from langchain-core<0.4.0,>=0.2.14->nemoguardrails) (24.2)\n",
      "Requirement already satisfied: coloredlogs in /Users/avasquez/.pyenv/versions/3.11.8/lib/python3.11/site-packages (from onnxruntime<2.0.0,>=1.17.0->nemoguardrails) (15.0.1)\n",
      "Requirement already satisfied: flatbuffers in /Users/avasquez/.pyenv/versions/3.11.8/lib/python3.11/site-packages (from onnxruntime<2.0.0,>=1.17.0->nemoguardrails) (25.2.10)\n",
      "Requirement already satisfied: protobuf in /Users/avasquez/.pyenv/versions/3.11.8/lib/python3.11/site-packages (from onnxruntime<2.0.0,>=1.17.0->nemoguardrails) (5.29.4)\n",
      "Requirement already satisfied: sympy in /Users/avasquez/.pyenv/versions/3.11.8/lib/python3.11/site-packages (from onnxruntime<2.0.0,>=1.17.0->nemoguardrails) (1.13.3)\n",
      "Requirement already satisfied: python-dateutil>=2.8.2 in /Users/avasquez/.pyenv/versions/3.11.8/lib/python3.11/site-packages (from pandas<3,>=1.4.0->nemoguardrails) (2.9.0.post0)\n",
      "Requirement already satisfied: pytz>=2020.1 in /Users/avasquez/.pyenv/versions/3.11.8/lib/python3.11/site-packages (from pandas<3,>=1.4.0->nemoguardrails) (2025.2)\n",
      "Requirement already satisfied: tzdata>=2022.7 in /Users/avasquez/.pyenv/versions/3.11.8/lib/python3.11/site-packages (from pandas<3,>=1.4.0->nemoguardrails) (2025.2)\n",
      "Requirement already satisfied: wcwidth in /Users/avasquez/.pyenv/versions/3.11.8/lib/python3.11/site-packages (from prompt-toolkit>=3.0->nemoguardrails) (0.2.13)\n",
      "Requirement already satisfied: annotated-types>=0.6.0 in /Users/avasquez/.pyenv/versions/3.11.8/lib/python3.11/site-packages (from pydantic>=1.10->nemoguardrails) (0.7.0)\n",
      "Requirement already satisfied: pydantic-core==2.27.2 in /Users/avasquez/.pyenv/versions/3.11.8/lib/python3.11/site-packages (from pydantic>=1.10->nemoguardrails) (2.27.2)\n",
      "Requirement already satisfied: markdown-it-py>=2.2.0 in /Users/avasquez/.pyenv/versions/3.11.8/lib/python3.11/site-packages (from rich>=13.5.2->nemoguardrails) (3.0.0)\n",
      "Requirement already satisfied: pygments<3.0.0,>=2.13.0 in /Users/avasquez/.pyenv/versions/3.11.8/lib/python3.11/site-packages (from rich>=13.5.2->nemoguardrails) (2.19.1)\n",
      "Requirement already satisfied: click>=8.0.0 in /Users/avasquez/.pyenv/versions/3.11.8/lib/python3.11/site-packages (from typer>=0.8->nemoguardrails) (8.1.8)\n",
      "Requirement already satisfied: shellingham>=1.3.0 in /Users/avasquez/.pyenv/versions/3.11.8/lib/python3.11/site-packages (from typer>=0.8->nemoguardrails) (1.5.4)\n",
      "Requirement already satisfied: sniffio>=1.1 in /Users/avasquez/.pyenv/versions/3.11.8/lib/python3.11/site-packages (from anyio->httpx>=0.24.1->nemoguardrails) (1.3.1)\n",
      "Requirement already satisfied: marshmallow<4.0.0,>=3.18.0 in /Users/avasquez/.pyenv/versions/3.11.8/lib/python3.11/site-packages (from dataclasses-json<0.7,>=0.5.7->langchain-community<0.4.0,>=0.0.16->nemoguardrails) (3.26.1)\n",
      "Requirement already satisfied: typing-inspect<1,>=0.4.0 in /Users/avasquez/.pyenv/versions/3.11.8/lib/python3.11/site-packages (from dataclasses-json<0.7,>=0.5.7->langchain-community<0.4.0,>=0.0.16->nemoguardrails) (0.9.0)\n",
      "Requirement already satisfied: filelock in /Users/avasquez/.pyenv/versions/3.11.8/lib/python3.11/site-packages (from huggingface-hub<1.0,>=0.20->fastembed<0.4.1,>=0.2.2->nemoguardrails) (3.18.0)\n",
      "Requirement already satisfied: fsspec>=2023.5.0 in /Users/avasquez/.pyenv/versions/3.11.8/lib/python3.11/site-packages (from huggingface-hub<1.0,>=0.20->fastembed<0.4.1,>=0.2.2->nemoguardrails) (2025.3.2)\n",
      "Requirement already satisfied: hf-xet<2.0.0,>=1.1.0 in /Users/avasquez/.pyenv/versions/3.11.8/lib/python3.11/site-packages (from huggingface-hub<1.0,>=0.20->fastembed<0.4.1,>=0.2.2->nemoguardrails) (1.1.0)\n",
      "Requirement already satisfied: jsonpointer>=1.9 in /Users/avasquez/.pyenv/versions/3.11.8/lib/python3.11/site-packages (from jsonpatch<2.0,>=1.33->langchain-core<0.4.0,>=0.2.14->nemoguardrails) (3.0.0)\n",
      "Requirement already satisfied: orjson<4.0.0,>=3.9.14 in /Users/avasquez/.pyenv/versions/3.11.8/lib/python3.11/site-packages (from langsmith<0.4,>=0.1.17->langchain<0.4.0,>=0.2.14->nemoguardrails) (3.10.18)\n",
      "Requirement already satisfied: requests-toolbelt<2.0.0,>=1.0.0 in /Users/avasquez/.pyenv/versions/3.11.8/lib/python3.11/site-packages (from langsmith<0.4,>=0.1.17->langchain<0.4.0,>=0.2.14->nemoguardrails) (1.0.0)\n",
      "Requirement already satisfied: zstandard<0.24.0,>=0.23.0 in /Users/avasquez/.pyenv/versions/3.11.8/lib/python3.11/site-packages (from langsmith<0.4,>=0.1.17->langchain<0.4.0,>=0.2.14->nemoguardrails) (0.23.0)\n",
      "Requirement already satisfied: mdurl~=0.1 in /Users/avasquez/.pyenv/versions/3.11.8/lib/python3.11/site-packages (from markdown-it-py>=2.2.0->rich>=13.5.2->nemoguardrails) (0.1.2)\n",
      "Requirement already satisfied: python-dotenv>=0.21.0 in /Users/avasquez/.pyenv/versions/3.11.8/lib/python3.11/site-packages (from pydantic-settings<3.0.0,>=2.4.0->langchain-community<0.4.0,>=0.0.16->nemoguardrails) (1.1.0)\n",
      "Requirement already satisfied: typing-inspection>=0.4.0 in /Users/avasquez/.pyenv/versions/3.11.8/lib/python3.11/site-packages (from pydantic-settings<3.0.0,>=2.4.0->langchain-community<0.4.0,>=0.0.16->nemoguardrails) (0.4.0)\n",
      "Requirement already satisfied: six>=1.5 in /Users/avasquez/.pyenv/versions/3.11.8/lib/python3.11/site-packages (from python-dateutil>=2.8.2->pandas<3,>=1.4.0->nemoguardrails) (1.17.0)\n",
      "Requirement already satisfied: charset-normalizer<4,>=2 in /Users/avasquez/.pyenv/versions/3.11.8/lib/python3.11/site-packages (from requests<3.0,>=2.31->fastembed<0.4.1,>=0.2.2->nemoguardrails) (3.4.1)\n",
      "Requirement already satisfied: urllib3<3,>=1.21.1 in /Users/avasquez/.pyenv/versions/3.11.8/lib/python3.11/site-packages (from requests<3.0,>=2.31->fastembed<0.4.1,>=0.2.2->nemoguardrails) (2.4.0)\n",
      "Requirement already satisfied: humanfriendly>=9.1 in /Users/avasquez/.pyenv/versions/3.11.8/lib/python3.11/site-packages (from coloredlogs->onnxruntime<2.0.0,>=1.17.0->nemoguardrails) (10.0)\n",
      "Requirement already satisfied: mpmath<1.4,>=1.1.0 in /Users/avasquez/.pyenv/versions/3.11.8/lib/python3.11/site-packages (from sympy->onnxruntime<2.0.0,>=1.17.0->nemoguardrails) (1.3.0)\n",
      "Requirement already satisfied: mypy-extensions>=0.3.0 in /Users/avasquez/.pyenv/versions/3.11.8/lib/python3.11/site-packages (from typing-inspect<1,>=0.4.0->dataclasses-json<0.7,>=0.5.7->langchain-community<0.4.0,>=0.0.16->nemoguardrails) (1.1.0)\n",
      "\n",
      "\u001b[1m[\u001b[0m\u001b[34;49mnotice\u001b[0m\u001b[1;39;49m]\u001b[0m\u001b[39;49m A new release of pip is available: \u001b[0m\u001b[31;49m24.0\u001b[0m\u001b[39;49m -> \u001b[0m\u001b[32;49m25.1.1\u001b[0m\n",
      "\u001b[1m[\u001b[0m\u001b[34;49mnotice\u001b[0m\u001b[1;39;49m]\u001b[0m\u001b[39;49m To update, run: \u001b[0m\u001b[32;49mpip install --upgrade pip\u001b[0m\n"
     ]
    }
   ],
   "source": [
    "# Install required dependencies (for a local setup)\n",
    "!pip install nemoguardrails"
   ]
  },
  {
   "cell_type": "markdown",
   "id": "8d1d449e-055b-437f-8aa4-e70fd9faa367",
   "metadata": {},
   "source": [
    "In this notebook, we leverage NIM guardrails already created for topical, safety, and security. But, Guardrails are fully programmable, and you can create your own rules and logic for any type of behavioral logic you would want on your agent 📚 [More on how it works in their official docs here.](https://docs.nvidia.com/nemo/guardrails/latest/user-guides/guardrails-process.html)\n"
   ]
  },
  {
   "cell_type": "markdown",
   "id": "7aac96cd-2c17-431e-95bc-709120fc2aca",
   "metadata": {},
   "source": [
    "## Topical Guardrail NIM\n",
    "\n",
    "The `llama-3.1-nemoguard-8b-topic-control` model is a dialog moderation model trained by NVIDIA, based on the Llama 3.1 8B Instruct foundation model. It serves as a topical guardrail, helping language applications stay aligned with developer-defined content boundaries.\n",
    "\n",
    "This model is fine-tuned using the CantTalkAboutThis dataset — a carefully constructed collection of over 10,000 dialog samples. These samples are designed to teach the model how to identify when user input deviates from permitted topics and to respond appropriately, such as by refusing the request, redirecting the conversation, or providing a neutral fallback."
   ]
  },
  {
   "cell_type": "code",
   "execution_count": 10,
   "id": "b24aee60-0907-4b04-98f2-5bd35fc5cd15",
   "metadata": {},
   "outputs": [],
   "source": [
    "# Set up the client\n",
    "from openai import OpenAI\n",
    "import os\n",
    "\n",
    "client = OpenAI(\n",
    "    base_url=\"https://integrate.api.nvidia.com/v1\",\n",
    "    api_key=os.environ.get(\"NVIDIA_API_KEY\")  # Replace with your API key if not using env var\n",
    ")"
   ]
  },
  {
   "cell_type": "markdown",
   "id": "bed4ea4f-d341-4de6-b982-06bc82a506fc",
   "metadata": {},
   "source": [
    "NOTE FOR FIXES\n",
    "\n",
    "flesh out prompt:\n",
    "- WHY DID we write the system prompt this way\n",
    "- what makes a good vs. bad system prompt? why do we number & provide rules?\n",
    "- explaining why the prompt is worded the way it is\n",
    "- \"keep these in mind \" vs \"you must follow this \" -> explain LLM prompt language"
   ]
  },
  {
   "cell_type": "markdown",
   "id": "c9c284b7-a313-4416-8708-0ff7e2f11901",
   "metadata": {},
   "source": [
    "Most traditional content moderation tools (think Llama Guard 3) rely on predefined taxonomies of harms — covering general sensitive areas like violence, hate speech, or NSFW content. While useful, these models often lack the flexibility to adapt to domain-specific needs needed for Digital Human use-cases.\n",
    "\n",
    "In contrast, `llama-3.1-nemoguard-8b-topic-control` allows developers to:\n",
    "- Define custom allowed/disallowed topics.\n",
    "- Enforce domain-restricted interactions (think of an AI teacher that only answers math questions).\n",
    "- Respond with context-aware refusals or redirections.\n",
    "\n",
    "Let's interact with the model & test it's ability to reject off-topic questions.\n",
    "\n",
    "The next cell, prompts the model to serve as a museum guide. Run through the cells, then experiment with both:\n",
    "- On-topic questions (e.g., “Who painted this?”)\n",
    "- Off-topic questions (“What’s your opinion on the presidential election?”)\n",
    "\n",
    "**System Instruction / System Prompt**   \n",
    "This section sets the context and rules for the conversation. \n",
    "It should include:\n",
    "- Core Rules: Define the boundaries of acceptable topics.\n",
    "- Persona Assignment: Specifies the role the model (your digital human) should adopt (museum guide, banking assistant)."
   ]
  },
  {
   "cell_type": "code",
   "execution_count": 30,
   "id": "be46e7f0-69bf-4acc-bf4a-5d72d37153ff",
   "metadata": {},
   "outputs": [],
   "source": [
    "# Define the System Prompt - Try changing this!\n",
    "system_prompt = (\n",
    "    \"You are an AI museum guide for the Modern Art & Technology Museum. Your role is to provide factual, accessible information about exhibits, artists, and museum logistics. \"\n",
    "    \"You must follow these guardrails:\\n\\n\"\n",
    "    \"1. Do not speculate about the value or future of artwork.\\n\"\n",
    "    \"2. Do not make personal or political commentary about the artists or their work.\\n\"\n",
    "    \"3. Do not provide medical, legal, or travel advice unrelated to museum logistics.\\n\"\n",
    "    \"4. If asked about topics outside the museum's scope (like global politics, conspiracy theories, or offensive content), politely redirect to museum-relevant topics or suggest asking a staff member.\\n\"\n",
    "    \"5. Maintain a polite, professional, and educational tone at all times.\"\n",
    ")"
   ]
  },
  {
   "cell_type": "code",
   "execution_count": 26,
   "id": "ce235335-1149-4121-9b3d-8f7046009005",
   "metadata": {},
   "outputs": [],
   "source": [
    "# Define the user input - Try changing this!\n",
    "user_question = \"What is an exhibit here?\""
   ]
  },
  {
   "cell_type": "code",
   "execution_count": 33,
   "id": "c471aeed-00b1-491d-8788-03f2a47ca68b",
   "metadata": {},
   "outputs": [
    {
     "name": "stdout",
     "output_type": "stream",
     "text": [
      "RESULT: on-topic \n"
     ]
    }
   ],
   "source": [
    "# Define the Completion guardrail\n",
    "completion = client.chat.completions.create(\n",
    "    \n",
    "    model=\"nvidia/llama-3.1-nemoguard-8b-topic-control\",\n",
    "    \n",
    "    messages=[\n",
    "        {\"role\": \"system\", \"content\": system_prompt},\n",
    "        {\"role\": \"user\", \"content\": user_question}\n",
    "    ],\n",
    "    \n",
    "    temperature=0.5,\n",
    "    \n",
    "    top_p=1,\n",
    "    \n",
    "    max_tokens=1024\n",
    ")"
   ]
  },
  {
   "cell_type": "code",
   "execution_count": 34,
   "id": "02d927b1-6d10-4b12-8493-0c3dbed6b68f",
   "metadata": {},
   "outputs": [
    {
     "name": "stdout",
     "output_type": "stream",
     "text": [
      "RESULT: on-topic \n"
     ]
    }
   ],
   "source": [
    "# Output guardail - Is the user question on topic?\n",
    "topic_result = completion.choices[0].message.content\n",
    "print(\"RESULT:\", completion.choices[0].message.content)"
   ]
  },
  {
   "cell_type": "markdown",
   "id": "99727d2f-77b6-4c44-8161-8758a671c728",
   "metadata": {},
   "source": [
    "Observe how the model enforces boundaries, and begin to understand how you might define similar guardrails for your own AI agents.  \n",
    "Try adjusting the system and user prompts to see change in the guardrails.\n"
   ]
  },
  {
   "cell_type": "markdown",
   "id": "5397d6c8-747d-41c4-8cfc-abc4bf4b569f",
   "metadata": {},
   "source": [
    "Based on if the guardrail deems the input as on or off topic, you can easily add some basic response:"
   ]
  },
  {
   "cell_type": "code",
   "execution_count": 38,
   "id": "a3e2cd01-9e7e-4eb9-98ee-6fe331e82c74",
   "metadata": {},
   "outputs": [
    {
     "name": "stdout",
     "output_type": "stream",
     "text": [
      "Our AI art exhibit explores how emerging technologies like machine learning are reshaping modern artistic expression. Feel free to explore it in the West Gallery!\n"
     ]
    }
   ],
   "source": [
    "if topic_result == \"off-topic\":\n",
    "    assistant_response = (\n",
    "        \"I'm here to assist with questions about our exhibits, artists, and museum logistics. \"\n",
    "        \"For topics beyond the museum's scope, I recommend speaking with one of our staff members.\"\n",
    ")\n",
    "else:\n",
    "    # Simulate a real response — you'd swap in your LLM logic from pipecat for this.\n",
    "    assistant_response = (\n",
    "        \"Our AI art exhibit explores how emerging technologies like machine learning are reshaping modern artistic expression. \"\n",
    "        \"Feel free to explore it in the West Gallery!\"\n",
    "    )\n",
    "\n",
    "print(assistant_response)"
   ]
  },
  {
   "cell_type": "markdown",
   "id": "36304f41-ae71-41f1-b9cb-40b8b92112b4",
   "metadata": {},
   "source": [
    "## Safety Guardrail NIM\n",
    "Llama 3.1 NemoGuard 8B ContentSafety NIM"
   ]
  },
  {
   "cell_type": "markdown",
   "id": "d980a1ac-19e0-4df9-b394-cfa9318ab49f",
   "metadata": {},
   "source": [
    "The `llama-3.1-nemoguard-8b-content-safety` model is a content moderation guardrail. It is built on the Llama 3.1 8B Instruct base model, and fine-tuned using the Aegis 2.0 dataset— a collection of 30,000 dialogue samples encompassing a comprehensive taxonomy of unsafe content categories.\n",
    "\n",
    "In applications like virtual assistants, ensuring that AI interactions remain free from harmful or inappropriate content is critical. The content safety guardrail serves as a protective layer, preventing the AI from engaging in or propagating content that falls into categories like Violence, Hate Speech, Sexual Content, Profanity, Misinformation, and Privacy Violations.\n",
    "\n",
    "This model can evaluate **both** user inputs and LLM-generated responses, classifying them as “safe” or “unsafe” and identifying specific categories of violations when applicable."
   ]
  },
  {
   "cell_type": "markdown",
   "id": "6d3c813b-3f10-4875-ad1f-83a29eea3c8b",
   "metadata": {},
   "source": [
    "Let's run a safety guardrail on our previous museum exhibit response:"
   ]
  },
  {
   "cell_type": "code",
   "execution_count": 39,
   "id": "de5be61c-dd2b-4483-bd2d-ecc4ff7fd7a1",
   "metadata": {},
   "outputs": [
    {
     "name": "stdout",
     "output_type": "stream",
     "text": [
      "Content Safety Output: {\"User Safety\": \"safe\", \"Response Safety\": \"safe\"} \n"
     ]
    }
   ],
   "source": [
    "safety_eval = client.chat.completions.create(\n",
    "    model=\"nvidia/llama-3.1-nemoguard-8b-content-safety\",\n",
    "    messages=[\n",
    "        {\"role\": \"user\", \"content\": user_question},\n",
    "        {\"role\": \"assistant\", \"content\": assistant_response}\n",
    "    ]\n",
    ")\n",
    "\n",
    "print(\"Content Safety Output:\", safety_eval.choices[0].message.content)"
   ]
  },
  {
   "cell_type": "code",
   "execution_count": null,
   "id": "75e61b9a-a747-4806-bedd-e852d2eb1cfa",
   "metadata": {},
   "outputs": [],
   "source": []
  }
 ],
 "metadata": {
  "kernelspec": {
   "display_name": "Python 3 (ipykernel)",
   "language": "python",
   "name": "python3"
  },
  "language_info": {
   "codemirror_mode": {
    "name": "ipython",
    "version": 3
   },
   "file_extension": ".py",
   "mimetype": "text/x-python",
   "name": "python",
   "nbconvert_exporter": "python",
   "pygments_lexer": "ipython3",
   "version": "3.12.10"
  }
 },
 "nbformat": 4,
 "nbformat_minor": 5
}
