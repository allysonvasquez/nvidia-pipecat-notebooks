{
 "cells": [
  {
   "cell_type": "markdown",
   "id": "module-title",
   "metadata": {},
   "source": [
    "# Module X.X: Module-Topic Title\n",
    "\n",
    "This notebook will walk through ...\n",
    "\n",
    "## Learning Objectives\n",
    "- ...\n",
    "\n",
    "## Prerequisites"
   ]
  },
  {
   "cell_type": "code",
   "execution_count": 2,
   "id": "prerequisites-setup",
   "metadata": {},
   "outputs": [
    {
     "name": "stdout",
     "output_type": "stream",
     "text": [
      "NVIDIA API key loaded from .env file.\n"
     ]
    }
   ],
   "source": [
    "import asyncio\n",
    "import os\n",
    "import getpass\n",
    "from typing import List, Optional\n",
    "\n",
    "from dotenv import load_dotenv\n",
    "from openai import OpenAI\n",
    "\n",
    "from pipecat.frames.frames import Frame, TextFrame, EndFrame, StartFrame, TranscriptionFrame, TTSSpeakFrame\n",
    "from pipecat.observers.base_observer import BaseObserver\n",
    "from pipecat.pipeline.pipeline import Pipeline\n",
    "from pipecat.pipeline.runner import PipelineRunner\n",
    "from pipecat.pipeline.task import PipelineTask, PipelineParams, FrameDirection\n",
    "from pipecat.processors.frame_processor import FrameProcessor\n",
    "from pipecat.processors.aggregators.openai_llm_context import OpenAILLMContext\n",
    "\n",
    "# NVIDIA specific services from nvidia-pipecat\n",
    "from nvidia_pipecat.services.nvidia_llm import NvidiaLLMService\n",
    "# from nvidia_pipecat.services.nvidia_rag import NvidiaRAGService # Placeholder for RAG\n",
    "\n",
    "import nest_asyncio\n",
    "nest_asyncio.apply() # For running asyncio in Jupyter\n",
    "\n",
    "# Load environment variables\n",
    "load_dotenv()\n",
    "api_key = os.getenv(\"NVIDIA_API_KEY\")\n",
    "\n",
    "if not os.environ.get(\"NVIDIA_API_KEY\", \"\").startswith(\"nvapi-\"):\n",
    "    print(\"NVIDIA API key not found or invalid in .env file.\")\n",
    "    api_key = getpass.getpass(\"🔐 Enter your NVIDIA API key: \").strip()\n",
    "    assert api_key.startswith(\"nvapi-\"), f\"{api_key[:5]}... is not a valid key\"\n",
    "    os.environ[\"NVIDIA_API_KEY\"] = api_key\n",
    "else:\n",
    "    print(\"NVIDIA API key loaded from .env file.\")\n",
    "\n",
    "# Initialize a dummy OpenAI client for demonstration (for direct NIM calls if needed)\n",
    "nim_client = OpenAI(\n",
    "    base_url=\"https://integrate.api.nvidia.com/v1\",\n",
    "    api_key=os.environ.get(\"NVIDIA_API_KEY\")\n",
    ")"
   ]
  },
  {
   "cell_type": "markdown",
   "id": "intro-section",
   "metadata": {},
   "source": [
    "# Introduction\n",
    "\n",
    "..."
   ]
  },
  {
   "cell_type": "markdown",
   "id": "main-content-section",
   "metadata": {},
   "source": [
    "## Main Content\n",
    "\n",
    "..."
   ]
  },
  {
   "cell_type": "code",
   "execution_count": null,
   "id": "code-placeholder",
   "metadata": {},
   "outputs": [],
   "source": [
    "# Example code cell\n",
    "# await some_function()"
   ]
  },
  {
   "cell_type": "code",
   "execution_count": 3,
   "id": "c22fb95c-34ec-4bc6-b911-9999f399e517",
   "metadata": {},
   "outputs": [],
   "source": [
    "#sample chat observer to print pipecat pipeline output.\n",
    "class SimpleChatObserver(BaseObserver):\n",
    "    \"\"\"A simple observer to print streamed responses from LLM-like services.\"\"\"\n",
    "    async def on_push_frame(self, src: FrameProcessor, dst: FrameProcessor, frame: Frame, direction: FrameDirection, timestamp: int):\n",
    "        if isinstance(frame, TextFrame):\n",
    "            print(frame.text, end=\"\", flush=True)\n",
    "        elif isinstance(frame, EndFrame):\n",
    "            print() # Newline after response completes\n",
    "        # Add more frame types as needed for specific notebooks (e.g., NvidiaRAGCitationsFrame)"
   ]
  },
  {
   "cell_type": "markdown",
   "id": "assignment-conclusion",
   "metadata": {},
   "source": [
    "## Assignment\n",
    "\n",
    "...\n",
    "\n",
    "## Next Steps & Conclusion\n",
    "\n",
    "..."
   ]
  }
 ],
 "metadata": {
  "kernelspec": {
   "display_name": "nv-pipecat-env",
   "language": "python",
   "name": "nv-pipecat-env"
  },
  "language_info": {
   "codemirror_mode": {
    "name": "ipython",
    "version": 3
   },
   "file_extension": ".py",
   "mimetype": "text/x-python",
   "name": "python",
   "nbconvert_exporter": "python",
   "pygments_lexer": "ipython3",
   "version": "3.12.10"
  }
 },
 "nbformat": 4,
 "nbformat_minor": 5
}
