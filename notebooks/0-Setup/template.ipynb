{
 "cells": [
  {
   "cell_type": "markdown",
   "id": "28275e90-dfb7-43b1-bc46-e6ba779104e6",
   "metadata": {},
   "source": [
    "# Module-Topic Title\n",
    "This notebook will walk through ...\n",
    "\n",
    "## Background/Conceptual Overview\n",
    "Add"
   ]
  },
  {
   "cell_type": "markdown",
   "id": "7e5684d7-2d81-4b41-a973-1f21a6b7cd61",
   "metadata": {},
   "source": [
    "# Content Overview \n",
    "\n",
    "- [Prerequisites](#prerequisites)\n",
    "- Add"
   ]
  },
  {
   "cell_type": "markdown",
   "id": "fd1d01cc-753b-458e-baa4-98e846c92867",
   "metadata": {},
   "source": [
    "## Prerequisites\n",
    "A NIM (NVIDIA Inference Microservice) is a cloud-hosted AI model service. It lets you access hundreds models like Llama, NeMo, and Mistral through a single API, with optimized performance and control for building real-time applications like agents or digital humans. \n",
    "\n",
    "Prior to getting started, you will need an API Key from the NVIDIA API Catalog to access the models used in this notebook.\n",
    "1. Navigate to **[NVIDIA API Catalog](https://build.nvidia.com/meta/llama-3_3-70b-instruct)**. This should take you to a NIM model page, such as `llama-3.3-70b-instruct`.\n",
    "2. On the right side of the panel above the sample code snippet, click on \"Get API Key\". This will prompt you to log in if you have not already. (It's free!)\n",
    "3. Create and store your API Key in a `.env` file in the root of this directory."
   ]
  },
  {
   "cell_type": "code",
   "execution_count": 2,
   "id": "627bc4e5-bac9-48cf-8f83-b19e5cf04567",
   "metadata": {},
   "outputs": [],
   "source": [
    "import os\n",
    "import getpass\n",
    "from dotenv import load_dotenv\n",
    "\n",
    "load_dotenv() # Load environment variables from .env file if available\n",
    "\n",
    "api_key = os.getenv(\"NVIDIA_API_KEY\") # Try to get the API key from the environment\n",
    "\n",
    "if not api_key or not api_key.startswith(\"nvapi-\"): # Prompt if not set or invalid\n",
    "    print(\"NVIDIA API key not found or invalid.\")\n",
    "    api_key = getpass.getpass(\"🔐 Enter your NVIDIA API key: \").strip()\n",
    "    if not api_key.startswith(\"nvapi-\"):\n",
    "        raise ValueError(f\"{api_key[:5]}... is not a valid NVIDIA API key\")\n",
    "    os.environ[\"NVIDIA_API_KEY\"] = api_key # Set in environment for the current session"
   ]
  },
  {
   "cell_type": "markdown",
   "id": "9ab00b94-e89e-445a-b415-20de30d8ee15",
   "metadata": {},
   "source": [
    "# Section\n",
    "- "
   ]
  }
 ],
 "metadata": {
  "kernelspec": {
   "display_name": "Python 3 (ipykernel)",
   "language": "python",
   "name": "python3"
  },
  "language_info": {
   "codemirror_mode": {
    "name": "ipython",
    "version": 3
   },
   "file_extension": ".py",
   "mimetype": "text/x-python",
   "name": "python",
   "nbconvert_exporter": "python",
   "pygments_lexer": "ipython3",
   "version": "3.12.10"
  }
 },
 "nbformat": 4,
 "nbformat_minor": 5
}
